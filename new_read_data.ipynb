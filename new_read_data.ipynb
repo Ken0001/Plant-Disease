{
 "cells": [
  {
   "cell_type": "code",
   "execution_count": 1,
   "metadata": {},
   "outputs": [
    {
     "name": "stderr",
     "output_type": "stream",
     "text": [
      "Using TensorFlow backend.\n"
     ]
    }
   ],
   "source": [
    "import os, sys\n",
    "import glob \n",
    "import numpy as np\n",
    "from PIL import Image\n",
    "from sklearn.preprocessing import LabelEncoder\n",
    "from keras.utils import to_categorical\n",
    "import PIL.Image\n",
    "import PIL.ImageOps"
   ]
  },
  {
   "cell_type": "code",
   "execution_count": 2,
   "metadata": {},
   "outputs": [],
   "source": [
    "dict_labels = {\"black\":0, \"mg\":1, \"moth\":2, \"oil\":3}"
   ]
  },
  {
   "cell_type": "code",
   "execution_count": 108,
   "metadata": {},
   "outputs": [],
   "source": [
    "def label_encoder(name, multi=False):\n",
    "    global labels\n",
    "    if multi==True:\n",
    "        lst = [0,0,0,0]\n",
    "        for i in range(len(lst)):\n",
    "            for check in name.split(\"_\")[:-1]:\n",
    "                if i == dict_labels[check]:\n",
    "                    lst[i] = 1\n",
    "        print(name, lst)\n",
    "        labels.append(lst)\n",
    "    else:\n",
    "        if name == \"health\":\n",
    "            labels.append([0,0,0,0])\n",
    "        elif name == \"black\":\n",
    "            labels.append([1,0,0,0])\n",
    "        elif name == \"mg\":\n",
    "            labels.append([0,1,0,0])\n",
    "        elif name == \"moth\":\n",
    "            labels.append([0,0,1,0])\n",
    "        elif name == \"oil\":\n",
    "            labels.append([0,0,0,1])"
   ]
  },
  {
   "cell_type": "code",
   "execution_count": 109,
   "metadata": {},
   "outputs": [],
   "source": [
    "def read_dataset(loc, input_shape=(224,224)):\n",
    "    \"\"\"\n",
    "    \n",
    "    \"\"\"\n",
    "    global train, labels\n",
    "    for folders in glob.glob(loc):\n",
    "        for file in os.listdir(folders):\n",
    "            if os.path.basename(folders) == \"multi\":\n",
    "                label_encoder(file, True)\n",
    "            else:\n",
    "                label_encoder(os.path.basename(folders), False)"
   ]
  },
  {
   "cell_type": "code",
   "execution_count": 111,
   "metadata": {
    "scrolled": false
   },
   "outputs": [
    {
     "name": "stdout",
     "output_type": "stream",
     "text": [
      "black_mg_1.jpg [1, 1, 0, 0]\n",
      "black_mg_oil_2.jpg [1, 1, 0, 1]\n",
      "black_oil_3.jpg [1, 0, 0, 1]\n"
     ]
    },
    {
     "data": {
      "text/plain": [
       "[[1, 0, 0, 0],\n",
       " [1, 0, 0, 0],\n",
       " [1, 0, 0, 0],\n",
       " [1, 0, 0, 0],\n",
       " [1, 0, 0, 0],\n",
       " [0, 0, 0, 0],\n",
       " [0, 0, 0, 0],\n",
       " [0, 0, 0, 0],\n",
       " [0, 0, 0, 0],\n",
       " [0, 0, 0, 0],\n",
       " [0, 1, 0, 0],\n",
       " [0, 1, 0, 0],\n",
       " [0, 1, 0, 0],\n",
       " [0, 1, 0, 0],\n",
       " [0, 1, 0, 0],\n",
       " [0, 0, 1, 0],\n",
       " [0, 0, 1, 0],\n",
       " [0, 0, 1, 0],\n",
       " [0, 0, 1, 0],\n",
       " [0, 0, 1, 0],\n",
       " [1, 1, 0, 0],\n",
       " [1, 1, 0, 1],\n",
       " [1, 0, 0, 1],\n",
       " [0, 0, 0, 1],\n",
       " [0, 0, 0, 1],\n",
       " [0, 0, 0, 1],\n",
       " [0, 0, 0, 1],\n",
       " [0, 0, 0, 1]]"
      ]
     },
     "execution_count": 111,
     "metadata": {},
     "output_type": "execute_result"
    }
   ],
   "source": [
    "train, labels = [],[]\n",
    "read_dataset(\"./new/new_train_b_tmp/*\")\n",
    "labels"
   ]
  },
  {
   "cell_type": "code",
   "execution_count": 52,
   "metadata": {},
   "outputs": [
    {
     "data": {
      "text/plain": [
       "array([[0, 1, 0, 0],\n",
       "       [0, 1, 0, 0]])"
      ]
     },
     "execution_count": 52,
     "metadata": {},
     "output_type": "execute_result"
    }
   ],
   "source": [
    "# append encoder to a list for each sample\n",
    "a = []\n",
    "b = []\n",
    "a.append(0)\n",
    "a.append(1)\n",
    "a.append(0)\n",
    "a.append(0)\n",
    "b.append(a)\n",
    "b.append(a)\n",
    "np.array(b)"
   ]
  },
  {
   "cell_type": "code",
   "execution_count": 95,
   "metadata": {},
   "outputs": [
    {
     "name": "stdout",
     "output_type": "stream",
     "text": [
      "['black']\n",
      "['mg', 'oil', 'moth']\n",
      "0\n",
      "0\n",
      "0\n"
     ]
    },
    {
     "data": {
      "text/plain": [
       "[0, 1, 1, 1]"
      ]
     },
     "execution_count": 95,
     "metadata": {},
     "output_type": "execute_result"
    }
   ],
   "source": [
    "# split img filename when folder is multi-label\n",
    "img = \"black_1.jpg\"\n",
    "img2 = \"black_mg_1.jpg\"\n",
    "img3 = \"mg_oil_moth_2.jpg\"\n",
    "dict_labels = {\"black\":0, \"mg\":1, \"moth\":2, \"oil\":3}\n",
    "print(img.split(\"_\")[:-1])\n",
    "print(img3.split(\"_\")[:-1])\n",
    "#for check in img3.split(\"_\")[:-1]:\n",
    "    #print(check)\n",
    "    #print(dict_labels[check])\n",
    "\n",
    "lst = [0,0,0,0]\n",
    "for i in range(len(lst)):\n",
    "    for check in img3.split(\"_\")[:-1]:\n",
    "        if i == dict_labels[check]:\n",
    "            print(lst[i])\n",
    "            lst[i] = 1\n",
    "\n",
    "lst\n",
    "#label_encoder(img.split(\"_\")[:-1], True)\n",
    "#label_encoder(img2.split(\"_\")[:-1], True)\n",
    "#label_encoder(img3.split(\"_\")[:-1], True)"
   ]
  },
  {
   "cell_type": "code",
   "execution_count": 31,
   "metadata": {},
   "outputs": [],
   "source": [
    "labels_hot=[]\n",
    "dict_labels = {\"black\":\"0\", \"healthy\":\"1\", \"mg\":\"mg\", \"moth\":\"moth\", \"oil\":\"oil\"}\n",
    "labels_hot.append(dict_labels[\"mg\"])\n",
    "labels_hot.append(dict_labels[\"oil\"])\n",
    "labels_hot.append(dict_labels[\"moth\"])"
   ]
  },
  {
   "cell_type": "code",
   "execution_count": 32,
   "metadata": {},
   "outputs": [
    {
     "data": {
      "text/plain": [
       "['mg', 'oil', 'moth']"
      ]
     },
     "execution_count": 32,
     "metadata": {},
     "output_type": "execute_result"
    }
   ],
   "source": [
    "labels_hot"
   ]
  },
  {
   "cell_type": "code",
   "execution_count": 33,
   "metadata": {},
   "outputs": [
    {
     "data": {
      "text/plain": [
       "array([[1., 0., 0.],\n",
       "       [0., 0., 1.],\n",
       "       [0., 1., 0.]], dtype=float32)"
      ]
     },
     "execution_count": 33,
     "metadata": {},
     "output_type": "execute_result"
    }
   ],
   "source": [
    "y = to_categorical(LabelEncoder().fit_transform(labels_hot))\n",
    "y"
   ]
  },
  {
   "cell_type": "code",
   "execution_count": null,
   "metadata": {},
   "outputs": [],
   "source": []
  }
 ],
 "metadata": {
  "kernelspec": {
   "display_name": "Python 3",
   "language": "python",
   "name": "python3"
  },
  "language_info": {
   "codemirror_mode": {
    "name": "ipython",
    "version": 3
   },
   "file_extension": ".py",
   "mimetype": "text/x-python",
   "name": "python",
   "nbconvert_exporter": "python",
   "pygments_lexer": "ipython3",
   "version": "3.7.4"
  }
 },
 "nbformat": 4,
 "nbformat_minor": 2
}
