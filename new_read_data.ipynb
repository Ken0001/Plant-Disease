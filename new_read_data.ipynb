{
 "cells": [
  {
   "cell_type": "code",
   "execution_count": 1,
   "metadata": {},
   "outputs": [
    {
     "name": "stderr",
     "output_type": "stream",
     "text": [
      "Using TensorFlow backend.\n"
     ]
    }
   ],
   "source": [
    "import os, sys\n",
    "import glob \n",
    "import numpy as np\n",
    "from PIL import Image\n",
    "from sklearn.preprocessing import LabelEncoder\n",
    "from keras.utils import to_categorical\n",
    "import PIL.Image\n",
    "import PIL.ImageOps"
   ]
  },
  {
   "cell_type": "code",
   "execution_count": 2,
   "metadata": {},
   "outputs": [],
   "source": [
    "dict_labels = {\"black\":0, \"mg\":1, \"moth\":2, \"oil\":3}"
   ]
  },
  {
   "cell_type": "code",
   "execution_count": 124,
   "metadata": {},
   "outputs": [],
   "source": [
    "def label_encoder(name, multi=False):\n",
    "    global labels\n",
    "    if multi==True:\n",
    "        lst = [0,0,0,0]\n",
    "        for i in range(len(lst)):\n",
    "            for check in name.split(\"_\")[:-1]:\n",
    "                if i == dict_labels[check]:\n",
    "                    lst[i] = 1\n",
    "        labels.append(lst)\n",
    "    else:\n",
    "        if name == \"health\":\n",
    "            labels.append([0,0,0,0])\n",
    "        elif name == \"black\":\n",
    "            labels.append([1,0,0,0])\n",
    "        elif name == \"mg\":\n",
    "            labels.append([0,1,0,0])\n",
    "        elif name == \"moth\":\n",
    "            labels.append([0,0,1,0])\n",
    "        elif name == \"oil\":\n",
    "            labels.append([0,0,0,1])"
   ]
  },
  {
   "cell_type": "code",
   "execution_count": 125,
   "metadata": {},
   "outputs": [],
   "source": [
    "def exif_transpose(img):\n",
    "    if not img:\n",
    "        return img\n",
    "\n",
    "    exif_orientation_tag = 274\n",
    "\n",
    "    # Check for EXIF data (only present on some files)\n",
    "    if hasattr(img, \"_getexif\") and isinstance(img._getexif(), dict) and exif_orientation_tag in img._getexif():\n",
    "        exif_data = img._getexif()\n",
    "        orientation = exif_data[exif_orientation_tag]\n",
    "\n",
    "        # Handle EXIF Orientation\n",
    "        if orientation == 1:\n",
    "            # Normal image - nothing to do!\n",
    "            pass\n",
    "        elif orientation == 2:\n",
    "            # Mirrored left to right\n",
    "            img = img.transpose(PIL.Image.FLIP_LEFT_RIGHT)\n",
    "        elif orientation == 3:\n",
    "            # Rotated 180 degrees\n",
    "            img = img.rotate(180)\n",
    "        elif orientation == 4:\n",
    "            # Mirrored top to bottom\n",
    "            img = img.rotate(180).transpose(PIL.Image.FLIP_LEFT_RIGHT)\n",
    "        elif orientation == 5:\n",
    "            # Mirrored along top-left diagonal\n",
    "            img = img.rotate(-90, expand=True).transpose(PIL.Image.FLIP_LEFT_RIGHT)\n",
    "        elif orientation == 6:\n",
    "            # Rotated 90 degrees\n",
    "            img = img.rotate(-90, expand=True)\n",
    "        elif orientation == 7:\n",
    "            # Mirrored along top-right diagonal\n",
    "            img = img.rotate(90, expand=True).transpose(PIL.Image.FLIP_LEFT_RIGHT)\n",
    "        elif orientation == 8:\n",
    "            # Rotated 270 degrees\n",
    "            img = img.rotate(90, expand=True)\n",
    "\n",
    "    return img\n",
    "\n",
    "\n",
    "def load_image_file(file, mode='RGB', size=None):\n",
    "    # Load the image with PIL\n",
    "    img = PIL.Image.open(file)\n",
    "    img = exif_transpose(img)\n",
    "    img = img.convert(mode)\n",
    "    if size:\n",
    "        if type(size) is not tuple:\n",
    "            print(\"Wrong type of size\")\n",
    "        else:\n",
    "            img = img.resize(size)\n",
    "    return img"
   ]
  },
  {
   "cell_type": "code",
   "execution_count": 138,
   "metadata": {},
   "outputs": [],
   "source": [
    "def read_dataset(loc, aug=False, input_shape=(224,224)):\n",
    "    \"\"\"\n",
    "    \n",
    "    \"\"\"\n",
    "    global image, labels\n",
    "    for folders in glob.glob(loc):\n",
    "        for file in os.listdir(folders):\n",
    "            if os.path.basename(folders) == \"multi\":\n",
    "                label_encoder(file, True)\n",
    "                img = load_image_file(os.path.join(folders,file), size = (224,224))\n",
    "                image.append(np.array(img))\n",
    "            else:\n",
    "                label_encoder(os.path.basename(folders), False)\n",
    "                img = load_image_file(os.path.join(folders,file), size = (224,224))\n",
    "                image.append(np.array(img))\n",
    "    \n",
    "    x = np.array(img, dtype='float32') / 255.0\n",
    "    y = np.array(labels, dtype='float32')\n",
    "    return x, y"
   ]
  },
  {
   "cell_type": "code",
   "execution_count": 139,
   "metadata": {
    "scrolled": false
   },
   "outputs": [
    {
     "data": {
      "text/plain": [
       "[[1, 0, 0, 0],\n",
       " [1, 0, 0, 0],\n",
       " [1, 0, 0, 0],\n",
       " [1, 0, 0, 0],\n",
       " [1, 0, 0, 0],\n",
       " [0, 0, 0, 0],\n",
       " [0, 0, 0, 0],\n",
       " [0, 0, 0, 0],\n",
       " [0, 0, 0, 0],\n",
       " [0, 0, 0, 0],\n",
       " [0, 1, 0, 0],\n",
       " [0, 1, 0, 0],\n",
       " [0, 1, 0, 0],\n",
       " [0, 1, 0, 0],\n",
       " [0, 1, 0, 0],\n",
       " [0, 0, 1, 0],\n",
       " [0, 0, 1, 0],\n",
       " [0, 0, 1, 0],\n",
       " [0, 0, 1, 0],\n",
       " [0, 0, 1, 0],\n",
       " [1, 1, 0, 0],\n",
       " [1, 1, 0, 1],\n",
       " [1, 0, 0, 1],\n",
       " [0, 0, 0, 1],\n",
       " [0, 0, 0, 1],\n",
       " [0, 0, 0, 1],\n",
       " [0, 0, 0, 1],\n",
       " [0, 0, 0, 1]]"
      ]
     },
     "execution_count": 139,
     "metadata": {},
     "output_type": "execute_result"
    }
   ],
   "source": [
    "image, labels = [],[]\n",
    "read_dataset(\"./new/new_train_b_tmp/*\")\n",
    "labels"
   ]
  },
  {
   "cell_type": "code",
   "execution_count": 141,
   "metadata": {},
   "outputs": [
    {
     "name": "stdout",
     "output_type": "stream",
     "text": [
      "(28, 224, 224, 3)\n"
     ]
    },
    {
     "data": {
      "text/plain": [
       "array([[1., 0., 0., 0.],\n",
       "       [1., 0., 0., 0.],\n",
       "       [1., 0., 0., 0.],\n",
       "       [1., 0., 0., 0.],\n",
       "       [1., 0., 0., 0.],\n",
       "       [0., 0., 0., 0.],\n",
       "       [0., 0., 0., 0.],\n",
       "       [0., 0., 0., 0.],\n",
       "       [0., 0., 0., 0.],\n",
       "       [0., 0., 0., 0.],\n",
       "       [0., 1., 0., 0.],\n",
       "       [0., 1., 0., 0.],\n",
       "       [0., 1., 0., 0.],\n",
       "       [0., 1., 0., 0.],\n",
       "       [0., 1., 0., 0.],\n",
       "       [0., 0., 1., 0.],\n",
       "       [0., 0., 1., 0.],\n",
       "       [0., 0., 1., 0.],\n",
       "       [0., 0., 1., 0.],\n",
       "       [0., 0., 1., 0.],\n",
       "       [1., 1., 0., 0.],\n",
       "       [1., 1., 0., 1.],\n",
       "       [1., 0., 0., 1.],\n",
       "       [0., 0., 0., 1.],\n",
       "       [0., 0., 0., 1.],\n",
       "       [0., 0., 0., 1.],\n",
       "       [0., 0., 0., 1.],\n",
       "       [0., 0., 0., 1.]], dtype=float32)"
      ]
     },
     "execution_count": 141,
     "metadata": {},
     "output_type": "execute_result"
    }
   ],
   "source": [
    "x_train = np.array(train, dtype='float32') / 255.0\n",
    "y_train = np.array(labels, dtype='float32')\n",
    "\n",
    "print(x_train.shape)\n",
    "y_train"
   ]
  },
  {
   "cell_type": "code",
   "execution_count": 52,
   "metadata": {},
   "outputs": [
    {
     "data": {
      "text/plain": [
       "array([[0, 1, 0, 0],\n",
       "       [0, 1, 0, 0]])"
      ]
     },
     "execution_count": 52,
     "metadata": {},
     "output_type": "execute_result"
    }
   ],
   "source": [
    "# append encoder to a list for each sample\n",
    "a = []\n",
    "b = []\n",
    "a.append(0)\n",
    "a.append(1)\n",
    "a.append(0)\n",
    "a.append(0)\n",
    "b.append(a)\n",
    "b.append(a)\n",
    "np.array(b)"
   ]
  },
  {
   "cell_type": "code",
   "execution_count": 95,
   "metadata": {},
   "outputs": [
    {
     "name": "stdout",
     "output_type": "stream",
     "text": [
      "['black']\n",
      "['mg', 'oil', 'moth']\n",
      "0\n",
      "0\n",
      "0\n"
     ]
    },
    {
     "data": {
      "text/plain": [
       "[0, 1, 1, 1]"
      ]
     },
     "execution_count": 95,
     "metadata": {},
     "output_type": "execute_result"
    }
   ],
   "source": [
    "# split img filename when folder is multi-label\n",
    "img = \"black_1.jpg\"\n",
    "img2 = \"black_mg_1.jpg\"\n",
    "img3 = \"mg_oil_moth_2.jpg\"\n",
    "dict_labels = {\"black\":0, \"mg\":1, \"moth\":2, \"oil\":3}\n",
    "print(img.split(\"_\")[:-1])\n",
    "print(img3.split(\"_\")[:-1])\n",
    "#for check in img3.split(\"_\")[:-1]:\n",
    "    #print(check)\n",
    "    #print(dict_labels[check])\n",
    "\n",
    "lst = [0,0,0,0]\n",
    "for i in range(len(lst)):\n",
    "    for check in img3.split(\"_\")[:-1]:\n",
    "        if i == dict_labels[check]:\n",
    "            print(lst[i])\n",
    "            lst[i] = 1\n",
    "\n",
    "lst\n",
    "#label_encoder(img.split(\"_\")[:-1], True)\n",
    "#label_encoder(img2.split(\"_\")[:-1], True)\n",
    "#label_encoder(img3.split(\"_\")[:-1], True)"
   ]
  },
  {
   "cell_type": "code",
   "execution_count": 119,
   "metadata": {},
   "outputs": [
    {
     "name": "stdout",
     "output_type": "stream",
     "text": [
      "[[[128 146 122]\n",
      "  [137 154 136]\n",
      "  [150 164 151]\n",
      "  ...\n",
      "  [117 131  82]\n",
      "  [112 126  77]\n",
      "  [127 142  87]]\n",
      "\n",
      " [[120 141 110]\n",
      "  [130 148 126]\n",
      "  [147 163 150]\n",
      "  ...\n",
      "  [127 140  86]\n",
      "  [113 132  77]\n",
      "  [113 136  82]]\n",
      "\n",
      " [[119 140 107]\n",
      "  [135 153 129]\n",
      "  [148 162 149]\n",
      "  ...\n",
      "  [133 154  89]\n",
      "  [135 153  91]\n",
      "  [110 129  74]]\n",
      "\n",
      " ...\n",
      "\n",
      " [[255 236 232]\n",
      "  [254 239 232]\n",
      "  [254 240 231]\n",
      "  ...\n",
      "  [115 118  65]\n",
      "  [134 144  75]\n",
      "  [144 167  87]]\n",
      "\n",
      " [[255 241 234]\n",
      "  [255 242 236]\n",
      "  [254 244 234]\n",
      "  ...\n",
      "  [125 149  75]\n",
      "  [141 167  80]\n",
      "  [156 189 102]]\n",
      "\n",
      " [[255 237 233]\n",
      "  [254 241 235]\n",
      "  [253 243 234]\n",
      "  ...\n",
      "  [143 170  89]\n",
      "  [150 182  99]\n",
      "  [155 191 104]]]\n"
     ]
    }
   ],
   "source": [
    "# load image\n",
    "img = load_image_file(\"black.jpg\", size = (224,224))\n",
    "print(np.array(img))"
   ]
  },
  {
   "cell_type": "code",
   "execution_count": 31,
   "metadata": {},
   "outputs": [],
   "source": [
    "labels_hot=[]\n",
    "dict_labels = {\"black\":\"0\", \"healthy\":\"1\", \"mg\":\"mg\", \"moth\":\"moth\", \"oil\":\"oil\"}\n",
    "labels_hot.append(dict_labels[\"mg\"])\n",
    "labels_hot.append(dict_labels[\"oil\"])\n",
    "labels_hot.append(dict_labels[\"moth\"])"
   ]
  },
  {
   "cell_type": "code",
   "execution_count": 32,
   "metadata": {},
   "outputs": [
    {
     "data": {
      "text/plain": [
       "['mg', 'oil', 'moth']"
      ]
     },
     "execution_count": 32,
     "metadata": {},
     "output_type": "execute_result"
    }
   ],
   "source": [
    "labels_hot"
   ]
  },
  {
   "cell_type": "code",
   "execution_count": 33,
   "metadata": {},
   "outputs": [
    {
     "data": {
      "text/plain": [
       "array([[1., 0., 0.],\n",
       "       [0., 0., 1.],\n",
       "       [0., 1., 0.]], dtype=float32)"
      ]
     },
     "execution_count": 33,
     "metadata": {},
     "output_type": "execute_result"
    }
   ],
   "source": [
    "y = to_categorical(LabelEncoder().fit_transform(labels_hot))\n",
    "y"
   ]
  },
  {
   "cell_type": "code",
   "execution_count": null,
   "metadata": {},
   "outputs": [],
   "source": []
  }
 ],
 "metadata": {
  "kernelspec": {
   "display_name": "Python 3",
   "language": "python",
   "name": "python3"
  },
  "language_info": {
   "codemirror_mode": {
    "name": "ipython",
    "version": 3
   },
   "file_extension": ".py",
   "mimetype": "text/x-python",
   "name": "python",
   "nbconvert_exporter": "python",
   "pygments_lexer": "ipython3",
   "version": "3.7.4"
  }
 },
 "nbformat": 4,
 "nbformat_minor": 2
}
